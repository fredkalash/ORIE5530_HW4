{
 "cells": [
  {
   "cell_type": "code",
   "execution_count": 1,
   "metadata": {},
   "outputs": [],
   "source": [
    "#Fred Kalash\n",
    "#fk227\n",
    "#Homework 4"
   ]
  },
  {
   "cell_type": "code",
   "execution_count": 2,
   "metadata": {},
   "outputs": [],
   "source": [
    "#Problem 1"
   ]
  },
  {
   "cell_type": "code",
   "execution_count": 3,
   "metadata": {},
   "outputs": [],
   "source": [
    "#a"
   ]
  },
  {
   "cell_type": "code",
   "execution_count": 4,
   "metadata": {},
   "outputs": [],
   "source": [
    "import numpy as np\n",
    "import pandas as pd\n",
    "np.random.seed(1)"
   ]
  },
  {
   "cell_type": "code",
   "execution_count": 5,
   "metadata": {},
   "outputs": [
    {
     "name": "stdout",
     "output_type": "stream",
     "text": [
      "0.9809\n",
      "done\n"
     ]
    }
   ],
   "source": [
    "np.random.seed(3)\n",
    "def get_next_state(current_state):\n",
    "    if current_state == 0:\n",
    "        return int(np.random.choice(3, 1, p=[1/2, 1/3, 1/6])[0])\n",
    "    elif current_state == 1:\n",
    "        return int(np.random.choice(3, 1, p=[0, 1/3, 2/3])[0])\n",
    "    else: # current_state == 2\n",
    "        return int(np.random.choice(3, 1, p=[1/2, 0, 1/2])[0])\n",
    "\n",
    "x0_list = []\n",
    "x3_list = []\n",
    "n_trials = 20000\n",
    "for j in range(n_trials):\n",
    "    initial_state = int(np.random.choice(3, 1, p=[1/4, 1/4, 1/2])[0])\n",
    "    x0_list.append(initial_state)\n",
    "    for k in range(3):\n",
    "        initial_state = get_next_state(initial_state)\n",
    "    x3_list.append(initial_state)\n",
    "\n",
    "print(np.mean(x3_list))\n",
    "print('done')    "
   ]
  },
  {
   "cell_type": "code",
   "execution_count": 6,
   "metadata": {},
   "outputs": [],
   "source": [
    "#E(X3) from above is approximately 0.98"
   ]
  },
  {
   "cell_type": "code",
   "execution_count": 7,
   "metadata": {},
   "outputs": [],
   "source": [
    "#Chain is irreducible because all states can be reached given any initial state. \n",
    "#You can see this in the pandas histogram + scatter plot"
   ]
  },
  {
   "cell_type": "code",
   "execution_count": 8,
   "metadata": {},
   "outputs": [
    {
     "data": {
      "text/plain": [
       "<matplotlib.axes._subplots.AxesSubplot at 0x11bf68250>"
      ]
     },
     "execution_count": 8,
     "metadata": {},
     "output_type": "execute_result"
    },
    {
     "data": {
      "image/png": "[encoded data removed]",
      "text/plain": [
       "<Figure size 432x288 with 1 Axes>"
      ]
     },
     "metadata": {
      "needs_background": "light"
     },
     "output_type": "display_data"
    }
   ],
   "source": [
    "pd.Series(x3_list).hist()"
   ]
  },
  {
   "cell_type": "code",
   "execution_count": 9,
   "metadata": {},
   "outputs": [
    {
     "data": {
      "text/plain": [
       "<matplotlib.axes._subplots.AxesSubplot at 0x11c09ea30>"
      ]
     },
     "execution_count": 9,
     "metadata": {},
     "output_type": "execute_result"
    },
    {
     "data": {
      "image/png": "[encoded data removed]",
      "text/plain": [
       "<Figure size 432x288 with 1 Axes>"
      ]
     },
     "metadata": {
      "needs_background": "light"
     },
     "output_type": "display_data"
    }
   ],
   "source": [
    "df = pd.DataFrame({'start':x0_list, 'end':x3_list})\n",
    "df.plot.scatter(x='start',y='end')"
   ]
  },
  {
   "cell_type": "code",
   "execution_count": 10,
   "metadata": {},
   "outputs": [],
   "source": [
    "#b"
   ]
  },
  {
   "cell_type": "code",
   "execution_count": 11,
   "metadata": {},
   "outputs": [],
   "source": [
    "#The chain is not aperiodic since you can go from any state i back to state i in the Pandas scatterplot"
   ]
  },
  {
   "cell_type": "code",
   "execution_count": null,
   "metadata": {},
   "outputs": [],
   "source": []
  },
  {
   "cell_type": "code",
   "execution_count": 12,
   "metadata": {},
   "outputs": [],
   "source": [
    "#Problem 2"
   ]
  },
  {
   "cell_type": "code",
   "execution_count": 13,
   "metadata": {},
   "outputs": [],
   "source": [
    "#a"
   ]
  },
  {
   "cell_type": "code",
   "execution_count": 14,
   "metadata": {},
   "outputs": [
    {
     "data": {
      "text/plain": [
       "'\\n0   0   1   0   0   0\\n0   0   1   0   0   0 \\n1/4 1/4 0 1/4  1/4  0\\n0   0  1/2  0  0   1/2\\n0   0  1/2  0  0   1/2\\n0   0   0   1/2 1/2  0\\n'"
      ]
     },
     "execution_count": 14,
     "metadata": {},
     "output_type": "execute_result"
    }
   ],
   "source": [
    "\"\"\"\n",
    "0   0   1   0   0   0\n",
    "0   0   1   0   0   0 \n",
    "1/4 1/4 0 1/4  1/4  0\n",
    "0   0  1/2  0  0   1/2\n",
    "0   0  1/2  0  0   1/2\n",
    "0   0   0   1/2 1/2  0\n",
    "\"\"\""
   ]
  },
  {
   "cell_type": "code",
   "execution_count": 15,
   "metadata": {},
   "outputs": [],
   "source": [
    "#b"
   ]
  },
  {
   "cell_type": "code",
   "execution_count": 16,
   "metadata": {},
   "outputs": [
    {
     "name": "stdout",
     "output_type": "stream",
     "text": [
      "done\n"
     ]
    }
   ],
   "source": [
    "np.random.seed(3)\n",
    "def get_next_state(current_state):\n",
    "    if current_state == 0:\n",
    "        return int(np.random.choice(6, 1, p=[0, 0, 1, 0, 0, 0])[0])\n",
    "    elif current_state == 1:\n",
    "        return int(np.random.choice(6, 1, p=[0, 0, 1, 0, 0, 0])[0])\n",
    "    elif current_state == 2:\n",
    "        return int(np.random.choice(6, 1, p=[1/4, 1/4, 0, 1/4, 1/4, 0])[0])\n",
    "    elif current_state == 3:\n",
    "        return int(np.random.choice(6, 1, p=[0, 0, 1/2, 0, 0, 1/2])[0])        \n",
    "    elif current_state == 4:\n",
    "        return int(np.random.choice(6, 1, p=[0, 0, 1/2, 0, 0, 1/2])[0])             \n",
    "    else:\n",
    "        return int(np.random.choice(6, 1, p=[0, 0, 0, 1/2, 1/2, 0])[0])        \n",
    "\n",
    "x0_list = []\n",
    "x3_list = []\n",
    "n_trials = 1000\n",
    "for j in range(n_trials):\n",
    "    initial_state = int(np.random.choice(6, 1, p=[1/6, 1/6, 1/6, 1/6, 1/6, 1/6])[0])\n",
    "    x0_list.append(initial_state)\n",
    "    for k in range(1):\n",
    "        initial_state = get_next_state(initial_state)\n",
    "    x3_list.append(initial_state)\n",
    "\n",
    "    \n",
    "n_trials = 1000\n",
    "for j in range(n_trials):\n",
    "    initial_state = int(np.random.choice(6, 1, p=[1/6, 1/6, 1/6, 1/6, 1/6, 1/6])[0])\n",
    "    x0_list.append(initial_state)\n",
    "    for k in range(2):\n",
    "        initial_state = get_next_state(initial_state)\n",
    "    x3_list.append(initial_state)\n",
    "\n",
    "\n",
    "n_trials = 1000\n",
    "for j in range(n_trials):\n",
    "    initial_state = int(np.random.choice(6, 1, p=[1/6, 1/6, 1/6, 1/6, 1/6, 1/6])[0])\n",
    "    x0_list.append(initial_state)\n",
    "    for k in range(3):\n",
    "        initial_state = get_next_state(initial_state)\n",
    "    x3_list.append(initial_state)    \n",
    "    \n",
    "print('done')    "
   ]
  },
  {
   "cell_type": "code",
   "execution_count": 17,
   "metadata": {},
   "outputs": [
    {
     "data": {
      "text/plain": [
       "<matplotlib.axes._subplots.AxesSubplot at 0x11c1c1ac0>"
      ]
     },
     "execution_count": 17,
     "metadata": {},
     "output_type": "execute_result"
    },
    {
     "data": {
      "image/png": "[encoded data removed]",
      "text/plain": [
       "<Figure size 432x288 with 1 Axes>"
      ]
     },
     "metadata": {
      "needs_background": "light"
     },
     "output_type": "display_data"
    }
   ],
   "source": [
    "pd.Series(x3_list).hist()"
   ]
  },
  {
   "cell_type": "code",
   "execution_count": 18,
   "metadata": {},
   "outputs": [
    {
     "data": {
      "text/plain": [
       "<matplotlib.axes._subplots.AxesSubplot at 0x11c255400>"
      ]
     },
     "execution_count": 18,
     "metadata": {},
     "output_type": "execute_result"
    },
    {
     "data": {
      "image/png": "[encoded data removed]",
      "text/plain": [
       "<Figure size 432x288 with 1 Axes>"
      ]
     },
     "metadata": {
      "needs_background": "light"
     },
     "output_type": "display_data"
    }
   ],
   "source": [
    "df = pd.DataFrame({'start':x0_list, 'end':x3_list})\n",
    "df.plot.scatter(x='start',y='end')"
   ]
  },
  {
   "cell_type": "code",
   "execution_count": 19,
   "metadata": {},
   "outputs": [],
   "source": [
    "#The chain is not aperiodic since you can go from any state i back to state i in the Pandas scatterplot\n",
    "#Chain is irreducible because all states can be reached given any initial state.  See scatterplot - full lattice"
   ]
  },
  {
   "cell_type": "code",
   "execution_count": 20,
   "metadata": {},
   "outputs": [],
   "source": [
    "#c"
   ]
  },
  {
   "cell_type": "code",
   "execution_count": 21,
   "metadata": {},
   "outputs": [],
   "source": [
    "# Get stationary distribution\n",
    "\n",
    "start_matrix = np.matrix([[0,   0,   1,   0,   0,   0],\n",
    "                          [0,   0,   1,   0,   0,   0],\n",
    "                          [1/4, 1/4, 0,   1/4, 1/4, 0],                         \n",
    "                          [0,   0,   1/2,   0,   0,   1/2],                          \n",
    "                          [0,   0,   1/2,   0,   0,   1/2],       \n",
    "                          [0,   0,   0,   1/2,   1/2,   0],                               \n",
    "                         ])\n"
   ]
  },
  {
   "cell_type": "code",
   "execution_count": 22,
   "metadata": {},
   "outputs": [],
   "source": [
    "a = np.array([[-1,   0,   1,   0,   0,   0],\n",
    "                          [0,   -1,   1,   0,   0,   0],\n",
    "                          [1/4, 1/4, -1,   1/4, 1/4, 0],                         \n",
    "                          [0,   0,   1/2,   -1,   0,   1/2],                          \n",
    "                          [0,   0,   1/2,   0,   -1,   1/2],       \n",
    "                          [0,   0,   0,   1/2,   1/2,   -1],\n",
    "               [1,   1,   1,   1,   1,   1]\n",
    "                         ])\n",
    "\n",
    "# stractch"
   ]
  },
  {
   "cell_type": "code",
   "execution_count": 23,
   "metadata": {},
   "outputs": [
    {
     "data": {
      "text/plain": [
       "2    0.332189\n",
       "3    0.170767\n",
       "5    0.167811\n",
       "4    0.164833\n",
       "0    0.082700\n",
       "1    0.081700\n",
       "dtype: float64"
      ]
     },
     "execution_count": 23,
     "metadata": {},
     "output_type": "execute_result"
    }
   ],
   "source": [
    "np.random.seed(1)\n",
    "state_list = []\n",
    "for j in range(30):\n",
    "    initial_state = int(np.random.choice(6, 1, p=[1/6, 1/6, 1/6, 1/6, 1/6, 1/6])[0])\n",
    "    for k in range(3000):\n",
    "        initial_state = get_next_state(initial_state)\n",
    "        state_list.append(initial_state)\n",
    "pd.Series(state_list).value_counts(normalize=True)"
   ]
  },
  {
   "cell_type": "code",
   "execution_count": 24,
   "metadata": {},
   "outputs": [
    {
     "data": {
      "text/plain": [
       "'\\nStationary distribution:\\n2    0.332189\\n3    0.170767\\n5    0.167811\\n4    0.164833\\n0    0.082700\\n1    0.081700\\n\\n'"
      ]
     },
     "execution_count": 24,
     "metadata": {},
     "output_type": "execute_result"
    }
   ],
   "source": [
    "\"\"\"\n",
    "Stationary distribution:\n",
    "2    0.332189\n",
    "3    0.170767\n",
    "5    0.167811\n",
    "4    0.164833\n",
    "0    0.082700\n",
    "1    0.081700\n",
    "\n",
    "\"\"\""
   ]
  },
  {
   "cell_type": "code",
   "execution_count": 25,
   "metadata": {},
   "outputs": [],
   "source": [
    "#d"
   ]
  },
  {
   "cell_type": "code",
   "execution_count": 26,
   "metadata": {},
   "outputs": [
    {
     "data": {
      "text/plain": [
       "11.920371915603766"
      ]
     },
     "execution_count": 26,
     "metadata": {},
     "output_type": "execute_result"
    }
   ],
   "source": [
    "# state1 return time  (1/pi_0) from stationary distribution\n",
    "1/0.08389"
   ]
  },
  {
   "cell_type": "code",
   "execution_count": 27,
   "metadata": {},
   "outputs": [
    {
     "data": {
      "text/plain": [
       "11.829"
      ]
     },
     "execution_count": 27,
     "metadata": {},
     "output_type": "execute_result"
    }
   ],
   "source": [
    "np.random.seed(1)\n",
    "\n",
    "\n",
    "return_list = []\n",
    "n_trials = 10000\n",
    "for j in range(n_trials):\n",
    "    initial_state = int(0) # room1 has index of 0\n",
    "    # hack a while loop so no infinite run\n",
    "    for k in range(100000):\n",
    "        initial_state = get_next_state(initial_state)\n",
    "        if initial_state == 0:\n",
    "            break\n",
    "    return_list.append(k+1)\n",
    "    \n",
    "np.mean(return_list)"
   ]
  },
  {
   "cell_type": "code",
   "execution_count": 28,
   "metadata": {},
   "outputs": [],
   "source": [
    "#expected return to 1 from 1 is  11.829 iterations (time) from the simulation above\n",
    "#or via 1/pi_0 from the stationary distribution."
   ]
  },
  {
   "cell_type": "code",
   "execution_count": null,
   "metadata": {},
   "outputs": [],
   "source": []
  },
  {
   "cell_type": "code",
   "execution_count": 29,
   "metadata": {},
   "outputs": [],
   "source": [
    "#Problem 3"
   ]
  },
  {
   "cell_type": "code",
   "execution_count": 30,
   "metadata": {},
   "outputs": [],
   "source": [
    "#a"
   ]
  },
  {
   "cell_type": "code",
   "execution_count": 31,
   "metadata": {},
   "outputs": [],
   "source": [
    "np.random.seed(3)\n",
    "def get_next_state(current_state):\n",
    "    if current_state == 0:\n",
    "        return int(np.random.choice(3, 1, p=[0, 0.6, 0.4])[0])\n",
    "    elif current_state == 1:\n",
    "        return int(np.random.choice(3, 1, p=[0.3, 0, 0.7])[0])           \n",
    "    else:\n",
    "        return int(np.random.choice(3, 1, p=[0.85, 0.15, 0])[0])      \n"
   ]
  },
  {
   "cell_type": "code",
   "execution_count": 32,
   "metadata": {},
   "outputs": [
    {
     "data": {
      "text/plain": [
       "9.876482168373848"
      ]
     },
     "execution_count": 32,
     "metadata": {},
     "output_type": "execute_result"
    }
   ],
   "source": [
    "#test\n",
    "np.mean(np.random.exponential(scale=10, size=10000))"
   ]
  },
  {
   "cell_type": "code",
   "execution_count": 33,
   "metadata": {},
   "outputs": [],
   "source": [
    "np.random.seed(0)\n",
    "t = 0\n",
    "single_list = []\n",
    "time_list = []\n",
    "current_state = int(np.random.choice(3, 1, p=[0.33, 0.33, 0.34])[0])\n",
    "while t < 1000:\n",
    "    current_state = get_next_state(current_state)\n",
    "    single_list.append(current_state)\n",
    "    if current_state == 0:\n",
    "        t += np.random.exponential(scale=10, size=1)[0]\n",
    "    elif current_state == 1:\n",
    "        t += np.random.exponential(scale=5, size=1)[0]        \n",
    "    else:\n",
    "        t += np.random.exponential(scale=(10/3), size=1)[0]            \n",
    "    time_list.append(t)"
   ]
  },
  {
   "cell_type": "code",
   "execution_count": 34,
   "metadata": {},
   "outputs": [],
   "source": [
    "df = pd.DataFrame({'state':single_list,'time':time_list})"
   ]
  },
  {
   "cell_type": "code",
   "execution_count": 35,
   "metadata": {},
   "outputs": [
    {
     "data": {
      "text/plain": [
       "<matplotlib.axes._subplots.AxesSubplot at 0x11c31f100>"
      ]
     },
     "execution_count": 35,
     "metadata": {},
     "output_type": "execute_result"
    },
    {
     "data": {
      "image/png": "[encoded data removed]",
      "text/plain": [
       "<Figure size 432x288 with 1 Axes>"
      ]
     },
     "metadata": {
      "needs_background": "light"
     },
     "output_type": "display_data"
    }
   ],
   "source": [
    "#Simulate and plot a single realization of X(t) between t = 0 and t = 1000 . (Notice this is a\n",
    "#continuous time chain, it will move not necessarily on integer time epochs. )\n",
    "df.plot(x='time',y='state')"
   ]
  },
  {
   "cell_type": "code",
   "execution_count": 36,
   "metadata": {},
   "outputs": [],
   "source": [
    "#b"
   ]
  },
  {
   "cell_type": "code",
   "execution_count": 37,
   "metadata": {},
   "outputs": [
    {
     "data": {
      "text/plain": [
       "0    0.377652\n",
       "2    0.344344\n",
       "1    0.278004\n",
       "dtype: float64"
      ]
     },
     "execution_count": 37,
     "metadata": {},
     "output_type": "execute_result"
    }
   ],
   "source": [
    "np.random.seed(1)\n",
    "single_list = []\n",
    "for j in range(1000):\n",
    "    t = 0\n",
    "    current_state = int(np.random.choice(3, 1, p=[0.33, 0.33, 0.34])[0])\n",
    "    while t < 1000:\n",
    "        current_state = get_next_state(current_state)\n",
    "        single_list.append(current_state)\n",
    "        if current_state == 0:\n",
    "            t += np.random.exponential(scale=10, size=1)[0]\n",
    "        elif current_state == 1:\n",
    "            t += np.random.exponential(scale=5, size=1)[0]        \n",
    "        else:\n",
    "            t += np.random.exponential(scale=(10/3), size=1)[0]            \n",
    "            \n",
    "pd.Series(single_list).value_counts(normalize=True)"
   ]
  },
  {
   "cell_type": "code",
   "execution_count": 38,
   "metadata": {},
   "outputs": [
    {
     "data": {
      "text/plain": [
       "'\\nStationary is\\n0    0.377652\\n2    0.344344\\n1    0.278004\\n\\nso E[X] =  0.377652*0*0 + 0.278004*1*1 + 0.344344*2*2\\n = 1.6553799999999999\\n'"
      ]
     },
     "execution_count": 38,
     "metadata": {},
     "output_type": "execute_result"
    }
   ],
   "source": [
    "\"\"\"\n",
    "Stationary is\n",
    "0    0.377652\n",
    "2    0.344344\n",
    "1    0.278004\n",
    "\n",
    "so E[X] =  0.377652*0*0 + 0.278004*1*1 + 0.344344*2*2\n",
    " = 1.6553799999999999\n",
    "\"\"\""
   ]
  },
  {
   "cell_type": "code",
   "execution_count": 39,
   "metadata": {},
   "outputs": [
    {
     "data": {
      "text/plain": [
       "'\\nThe closed form stationary distribution does not depend on initial state given the assumptions. \\nHowever, any simulation may depend on initial condition if the number of iterations is low.\\nHence this is the difference we see.\\n'"
      ]
     },
     "execution_count": 39,
     "metadata": {},
     "output_type": "execute_result"
    }
   ],
   "source": [
    "\n",
    "#Compute the stationary distribution of the CTMC and, from it, the long-run average expected\n",
    "#reward. How does this number compare the number you obtained from the simulation.\n",
    "\n",
    "\"\"\"\n",
    "The closed form stationary distribution does not depend on initial state given the assumptions. \n",
    "However, any simulation may depend on initial condition if the number of iterations is low.\n",
    "Hence this is the difference we see.\n",
    "\"\"\""
   ]
  },
  {
   "cell_type": "code",
   "execution_count": null,
   "metadata": {},
   "outputs": [],
   "source": []
  }
 ],
 "metadata": {
  "kernelspec": {
   "display_name": "Python 3",
   "language": "python",
   "name": "python3"
  },
  "language_info": {
   "codemirror_mode": {
    "name": "ipython",
    "version": 3
   },
   "file_extension": ".py",
   "mimetype": "text/x-python",
   "name": "python",
   "nbconvert_exporter": "python",
   "pygments_lexer": "ipython3",
   "version": "3.8.3"
  }
 },
 "nbformat": 4,
 "nbformat_minor": 4
}
